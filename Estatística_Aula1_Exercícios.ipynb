{
  "cells": [
    {
      "cell_type": "markdown",
      "metadata": {
        "id": "jBZSMpJqAmRZ"
      },
      "source": [
        "Escreva um comando utilizando a função print que informe seu primeiro nome, seu RA, o código da disciplina e o ano seguindo o formato: {nome} - {RA} - {código da disciplina} - {ano}. Observação: Não utilize o parâmetro sep."
      ]
    },
    {
      "cell_type": "code",
      "execution_count": 1,
      "metadata": {
        "id": "AhIF0xsB_ykt"
      },
      "outputs": [
        {
          "name": "stdout",
          "output_type": "stream",
          "text": [
            "Ana - 248706 - AS012TSN1 - 2025\n"
          ]
        }
      ],
      "source": [
        "nome = \"Ana\"\n",
        "RA = 248706\n",
        "codigoDaDisciplina = \"AS012TSN1\"\n",
        "ano = 2025\n",
        "\n",
        "print(nome, end = \" - \")\n",
        "print(RA, end = \" - \")\n",
        "print(codigoDaDisciplina, end = \" - \")\n",
        "print(ano)"
      ]
    },
    {
      "cell_type": "markdown",
      "metadata": {},
      "source": [
        " Escreva um código que calcule a hipotenusa de um triângulo retângulo, cujos catetos são 𝑎 = 6 e 𝑏 = 6."
      ]
    },
    {
      "cell_type": "code",
      "execution_count": 2,
      "metadata": {
        "id": "rb2rXoNBBhmq"
      },
      "outputs": [
        {
          "name": "stdout",
          "output_type": "stream",
          "text": [
            "8.48528137423857\n"
          ]
        }
      ],
      "source": [
        "a = 6\n",
        "b = 6\n",
        "\n",
        "c = ((a ** 2) + (b ** 2)) ** 0.5\n",
        "print(c)"
      ]
    },
    {
      "cell_type": "markdown",
      "metadata": {
        "id": "vrnBbSJaBK0B"
      },
      "source": [
        "O programa compara dois números, imprima \"Os dois são iguais\", \"O maior número é o primeiro\" ou \"O maior número é o segundo\"."
      ]
    },
    {
      "cell_type": "code",
      "execution_count": null,
      "metadata": {
        "id": "dOCnrm5GBjTo"
      },
      "outputs": [
        {
          "name": "stdout",
          "output_type": "stream",
          "text": [
            "Os dois são iguais\n"
          ]
        }
      ],
      "source": [
        "numero1, numero2 = 11, 11\n",
        "\n",
        "if numero1 == numero2:\n",
        "  print(\"Os dois são iguais.\")\n",
        "else:\n",
        "  if numero1 > numero2:\n",
        "     print(\"O maior número é o primeiro.\")\n",
        "  else:\n",
        "     print(\"O maior número é o segundo.\")"
      ]
    },
    {
      "cell_type": "markdown",
      "metadata": {
        "id": "SNmGOeLyA0fX"
      },
      "source": [
        "Escreva um programa que, dados três números inteiros, imprima o menor deles."
      ]
    },
    {
      "cell_type": "code",
      "execution_count": 19,
      "metadata": {
        "id": "yRyfb9U7BXlO"
      },
      "outputs": [
        {
          "name": "stdout",
          "output_type": "stream",
          "text": [
            "O menor número é 2\n"
          ]
        }
      ],
      "source": [
        "numero1, numero2, numero3 = 10, 8, 2\n",
        "print(\"O menor número é\", min(numero1, numero2, numero3))"
      ]
    },
    {
      "cell_type": "markdown",
      "metadata": {
        "id": "Slux5Yh7A46f"
      },
      "source": [
        "Escreva um programa que, dados três números inteiros, imprima os números em ordem crescente."
      ]
    },
    {
      "cell_type": "code",
      "execution_count": 5,
      "metadata": {
        "id": "TfCiTA8jBZnA"
      },
      "outputs": [
        {
          "name": "stdout",
          "output_type": "stream",
          "text": [
            "[2, 8, 10]\n"
          ]
        }
      ],
      "source": [
        "numeros = [10, 8, 2]\n",
        "print(sorted(numeros))"
      ]
    },
    {
      "cell_type": "markdown",
      "metadata": {
        "id": "wq4hADqvBACG"
      },
      "source": [
        "Escrever a seguinte equação, supondo que conhece as variáveis a, b, c."
      ]
    },
    {
      "cell_type": "code",
      "execution_count": 6,
      "metadata": {
        "id": "SGgI8eajBcdp"
      },
      "outputs": [
        {
          "name": "stdout",
          "output_type": "stream",
          "text": [
            "Tem duas raízes reais distintas:  4.0 e -1.0\n"
          ]
        }
      ],
      "source": [
        "import math\n",
        "\n",
        "a = 1\n",
        "b = -3\n",
        "c = -4\n",
        "\n",
        "delta = b**2 - 4*a*c \n",
        "\n",
        "if delta < 0:\n",
        "  print(\"Não existem raízes reais.\")\n",
        "elif delta == 0:\n",
        "  x = -b / (2*a)\n",
        "  print(\"Tem duas raízes reais iguais: \", x)\n",
        "else:\n",
        "  x1 = (-b + math.sqrt(delta)) / (2*a)\n",
        "  x2 = (-b - math.sqrt(delta)) / (2*a)\n",
        "  print(\"Tem duas raízes reais distintas: \", x1, \"e\", x2)"
      ]
    },
    {
      "cell_type": "markdown",
      "metadata": {},
      "source": [
        "Escreva um programa que, dadas duas datas, determine qual delas ocorreu cronologicamente primeiro. Para cada uma das duas datas, leia três números referentes ao dia, mês e ano, respectivamente."
      ]
    },
    {
      "cell_type": "code",
      "execution_count": 13,
      "metadata": {},
      "outputs": [
        {
          "name": "stdout",
          "output_type": "stream",
          "text": [
            "A data [6, 7, 2005] ocorreu cronologicamente antes de [11, 7, 2005]\n"
          ]
        }
      ],
      "source": [
        "data1 = [6, 7, 2005]\n",
        "data2 = [11, 7, 2005]\n",
        "\n",
        "if data1[2] < data2[2]:\n",
        "    print(\"A data\", data1, \"ocorreu cronologicamente antes de\", data2)\n",
        "elif data2[2] < data1[2]:\n",
        "    print(\"A data\", data2, \"ocorreu cronologicamente antes de\", data1)\n",
        "else:\n",
        "    if data1[1] < data2[1]:\n",
        "        print(\"A data\", data1, \"ocorreu cronologicamente antes de\", data2)\n",
        "    elif data2[1] < data1[1]:\n",
        "        print(\"A data\", data2, \"ocorreu cronologicamente antes de\", data1)\n",
        "    else:\n",
        "        if data1[0] < data2[0]:\n",
        "            print(\"A data\", data1, \"ocorreu cronologicamente antes de\", data2)\n",
        "        elif data2[0] < data1[0]:\n",
        "            print(\"A data\", data2, \"ocorreu cronologicamente antes de\", data1)\n",
        "        else:\n",
        "            print(\"As datas\", data1, \"e\", data2, \"ocorreram cronologicamente no mesmo dia.\")"
      ]
    }
  ],
  "metadata": {
    "colab": {
      "provenance": []
    },
    "kernelspec": {
      "display_name": "Python 3",
      "name": "python3"
    },
    "language_info": {
      "codemirror_mode": {
        "name": "ipython",
        "version": 3
      },
      "file_extension": ".py",
      "mimetype": "text/x-python",
      "name": "python",
      "nbconvert_exporter": "python",
      "pygments_lexer": "ipython3",
      "version": "3.13.7"
    }
  },
  "nbformat": 4,
  "nbformat_minor": 0
}
