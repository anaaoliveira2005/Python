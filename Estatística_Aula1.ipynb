{
  "nbformat": 4,
  "nbformat_minor": 0,
  "metadata": {
    "colab": {
      "provenance": []
    },
    "kernelspec": {
      "name": "python3",
      "display_name": "Python 3"
    },
    "language_info": {
      "name": "python"
    }
  },
  "cells": [
    {
      "cell_type": "markdown",
      "source": [
        "Função print"
      ],
      "metadata": {
        "id": "j0vbyYAyCKYA"
      }
    },
    {
      "cell_type": "code",
      "source": [
        "print(\"1. Hello World\") # Exemplo de função print\n",
        "print(\"2. Hello\", \"World\") # Mesmo separado por \",\" um espaço é adicionado entre elas\n",
        "print(\"3. Hello\", \"World\", sep = \"\") # Podemos usar o sep para unir-las\n",
        "print(\"5. Hello\") # A função print imprime automatcamente /n\n",
        "print(\"World\")\n",
        "print(\"5. Hello\", end = \"\") # Podemos usar end para mudar isso\n",
        "print(\"World\")"
      ],
      "metadata": {
        "id": "jR8fSLrW_lEd"
      },
      "execution_count": null,
      "outputs": []
    },
    {
      "cell_type": "markdown",
      "source": [
        "Comentários"
      ],
      "metadata": {
        "id": "WaCTczmxCdoV"
      }
    },
    {
      "cell_type": "code",
      "source": [
        "# Usando \"#\" é possivel adicionar comentários sem alterar o código\n",
        "'''\n",
        "Usando essa sequencia\n",
        "no inicio e fim\n",
        "é possivel comentar\n",
        "em multiplas linhas\n",
        "'''"
      ],
      "metadata": {
        "id": "qO1PN6lsCq1y"
      },
      "execution_count": null,
      "outputs": []
    },
    {
      "cell_type": "markdown",
      "source": [
        "Tipos"
      ],
      "metadata": {
        "id": "zBEjX3CYGbPv"
      }
    },
    {
      "cell_type": "code",
      "source": [
        "nome = \"Ana\"\n",
        "peso = 45.5\n",
        "ano = 2025\n",
        "\n",
        "# A função type pode ser utilizada para mostrar o tipo de um dado.\n",
        "print(type(nome)) #String\n",
        "print(type(peso)) #float\n",
        "print(type(ano)) #int"
      ],
      "metadata": {
        "colab": {
          "base_uri": "https://localhost:8080/"
        },
        "id": "-HICK1-MGefw",
        "outputId": "9c2fbfcd-adec-42ca-aea8-b8171ef1f972"
      },
      "execution_count": 19,
      "outputs": [
        {
          "output_type": "stream",
          "name": "stdout",
          "text": [
            "<class 'str'>\n",
            "<class 'float'>\n",
            "<class 'int'>\n"
          ]
        }
      ]
    },
    {
      "cell_type": "markdown",
      "source": [
        "Variáveis"
      ],
      "metadata": {
        "id": "6Z0RC0aLHohB"
      }
    },
    {
      "cell_type": "code",
      "source": [
        "pi = 3.14 # O sinal = atribui valor\n",
        "print(\"1.\", pi) # 3.14\n",
        "\n",
        "# Também é possível utilizar o caractere = para atribuir um mesmo valor\n",
        "# para múltiplas variáveis em um único comando\n",
        "a = b = c = 3\n",
        "print(\"2.\", a, b, c)\n",
        "\n",
        "# Também podemos atribuir valores diferentes para múltiplas variáveis\n",
        "# com um único comando\n",
        "a, b, c = 1, 5, 8\n",
        "print(\"3.\", a, b, c)\n",
        "\n",
        "# Python diferencia (M)aiúsculas de (m)inúsculas\n",
        "c1 = 1.0\n",
        "C1 = \"1\"\n",
        "print(\"4.\", c1, type(c1), C1, type(C1))\n",
        "\n",
        "# Variáveis tipo bool tem que ser maiúsculas\n",
        "verdadeiro = True\n",
        "falso = False\n",
        "print(\"5.\", verdadeiro, type(verdadeiro), falso, type(falso))\n",
        "\n",
        "# NÚMERO NÃO É NOME DE VARIÁVEL"
      ],
      "metadata": {
        "colab": {
          "base_uri": "https://localhost:8080/"
        },
        "id": "ahpW9qpDHtAO",
        "outputId": "6ab000ed-f789-4971-a04d-8aa14ffcb6a0"
      },
      "execution_count": 32,
      "outputs": [
        {
          "output_type": "stream",
          "name": "stdout",
          "text": [
            "1. 3.14\n",
            "2. 3 3 3\n",
            "3. 1 5 8\n",
            "4. 1.0 <class 'float'> 1 <class 'str'>\n",
            "5. True <class 'bool'> False <class 'bool'>\n"
          ]
        }
      ]
    },
    {
      "cell_type": "markdown",
      "source": [
        "Operadores"
      ],
      "metadata": {
        "id": "Z11ySHNUKqAo"
      }
    },
    {
      "cell_type": "code",
      "source": [
        "a = 10\n",
        "b = 20\n",
        "\n",
        "3 + 2 # 5\n",
        "2 + 1.7 # 3.7\n",
        "a + 10 # 20\n",
        "\n",
        "3 - 2 # 1\n",
        "2 - 1.7 # 0.3\n",
        "a - b # -10\n",
        "\n",
        "3 * 2 # 6\n",
        "2 * 1.7 # 3.4\n",
        "b * 3 # 60\n",
        "\n",
        "3 / 2 # 1.5\n",
        "2 / 1.7 # 1.176470588235294\n",
        "a / b # 0.5\n",
        "\n",
        "2 ** 2 # 4\n",
        "3 ** 2 # 9\n",
        "a ** b # 100.000.000.000.000.000.000\n",
        "\n",
        "2 % 2 # 0\n",
        "3 % 2 # 1\n",
        "b % 5 # 0\n",
        "\n",
        "a += 200 # 210\n",
        "a -= 200 # -180\n",
        "a *= 200 # 2000\n",
        "a /= 200 # 0.05\n",
        "a %= 5 #0"
      ],
      "metadata": {
        "id": "CWfgkr87Krl_"
      },
      "execution_count": 37,
      "outputs": []
    },
    {
      "cell_type": "markdown",
      "source": [
        "Erros Comuns"
      ],
      "metadata": {
        "id": "FPIX-ynPPdaA"
      }
    },
    {
      "cell_type": "code",
      "source": [
        "10 / 0 # Divisão por 0\n",
        "10 % 0 # Resto de divisão por 0\n",
        "\n",
        "3 + * 3 # Erro de sintaxe\n",
        "3 + % 3 # Erro de sintaxe\n",
        "3 - / 3 # Erro de sintaxe\n",
        "3 * * 3 # Erro de sintaxe"
      ],
      "metadata": {
        "id": "xmE5uc7zPeDy"
      },
      "execution_count": null,
      "outputs": []
    },
    {
      "cell_type": "markdown",
      "source": [
        "Strings"
      ],
      "metadata": {
        "id": "TJsCy_u2QDhz"
      }
    },
    {
      "cell_type": "code",
      "source": [
        "# Strings de Concatenação\n",
        "a = \"Hello\" + \"World\"\n",
        "print(\"1.\", a)\n",
        "\n",
        "b = \"Hello\" + \" World\" + \"!\"\n",
        "print(\"2.\", b)\n",
        "\n",
        "nome = \"Fulano, \"\n",
        "mensagem = \"você está na turma de Estatística!\"\n",
        "print(\"3.\", nome + mensagem)\n",
        "\n",
        "# Strings de Replicação\n",
        "c = \"Fulano\" * 4\n",
        "print(\"4.\", c)\n",
        "\n",
        "print(\"5.\", 2 * \"Facens \")\n",
        "\n",
        "letra = \"Z\"\n",
        "numero = 10\n",
        "print(\"6.\", letra * numero)\n",
        "\n",
        "# Strings vs números\n",
        "d = 4 + 5\n",
        "print(\"7.\", d)\n",
        "\n",
        "e = \"4\" + \"5\"\n",
        "print(\"8.\", e)\n",
        "\n",
        "\"4\" + 5 # Erro"
      ],
      "metadata": {
        "colab": {
          "base_uri": "https://localhost:8080/"
        },
        "id": "RwzCf5eCQLHk",
        "outputId": "167bf335-20fe-4c7d-a85e-ba8b60a9f350"
      },
      "execution_count": 44,
      "outputs": [
        {
          "output_type": "stream",
          "name": "stdout",
          "text": [
            "1. HelloWorld\n",
            "2. Hello World!\n",
            "3. Fulano, você está na turma de Estatística!\n",
            "4. FulanoFulanoFulanoFulano\n",
            "5. Facens Facens \n",
            "6. ZZZZZZZZZZ\n"
          ]
        }
      ]
    },
    {
      "cell_type": "markdown",
      "source": [
        "Comparações numéricas"
      ],
      "metadata": {
        "id": "bv36fMgHdx8_"
      }
    },
    {
      "cell_type": "code",
      "source": [
        "5 < 4 # False\n",
        "\n",
        "5 > 4 # True\n",
        "\n",
        "5 <= 4 # False\n",
        "\n",
        "5 <= 5 # True\n",
        "\n",
        "5 >= 4 # True\n",
        "\n",
        "5 != 4 # True\n",
        "\n",
        "5 == 4 # False\n",
        "\n",
        "5 == 5.0 # True\n",
        "\n",
        "5 == 5.000001 # False\n",
        "\n",
        "5 == \"5\" # False"
      ],
      "metadata": {
        "id": "ss4OwW49d1ze"
      },
      "execution_count": null,
      "outputs": []
    },
    {
      "cell_type": "markdown",
      "source": [
        "Comparações Strings"
      ],
      "metadata": {
        "id": "sUvKpCRcgKzA"
      }
    },
    {
      "cell_type": "code",
      "source": [
        "# Ordem considerada para os caracteres do alfabeto ABC...XYZabc...xyz\n",
        "\n",
        "\"a\" > \"b\" # False\n",
        "\n",
        "\"a\" < \"b\" # True\n",
        "\n",
        "\"a\" == \"a\" # True\n",
        "\n",
        "\"a\" == \"A\" # False\n",
        "\n",
        "\"A\" < \"a\" # True\n",
        "\n",
        "\"A\" > \"a\" # False\n",
        "\n",
        "\"Z\" < \"a\" # True\n",
        "\n",
        "\"z\" < \"a\" # False\n",
        "\n",
        "# Para obter a ordem relativa de outros caracteres, consulte a Tabela ASCII"
      ],
      "metadata": {
        "id": "Zyw_VDkFgKX1"
      },
      "execution_count": null,
      "outputs": []
    },
    {
      "cell_type": "markdown",
      "source": [
        "Operadores Lógicos"
      ],
      "metadata": {
        "id": "cyG2GgbOjLYN"
      }
    },
    {
      "cell_type": "code",
      "source": [
        "# O operador and verifica se os dois operandos possuem valor lógico\n",
        "# verdadeiro. True(1), False(0)\n",
        "True and True # True\n",
        "\n",
        "True and False # False\n",
        "\n",
        "False and True # False\n",
        "\n",
        "False and False # False\n",
        "\n",
        "# O operador or verifica se pelo menos um dos dois operandos possui valor\n",
        "# lógico verdadeiro. True(1), False(0)\n",
        "True or True # True\n",
        "\n",
        "True or False # True\n",
        "\n",
        "False or True\n",
        "# True\n",
        "\n",
        "False or False\n",
        "# False\n",
        "\n",
        "\n",
        "# O operador not inverte o valor lógico do operando. True(1), False(0)\n",
        "not True\n",
        "# False\n",
        "\n",
        "not False\n",
        "# True\n",
        "\n",
        "not True and False\n",
        "# False\n",
        "\n",
        "not (True and False)\n",
        "# True"
      ],
      "metadata": {
        "colab": {
          "base_uri": "https://localhost:8080/"
        },
        "id": "3QYEYy34jOIS",
        "outputId": "5c509d61-bc01-4b53-8f8e-055eccb7ebc6"
      },
      "execution_count": 47,
      "outputs": [
        {
          "output_type": "execute_result",
          "data": {
            "text/plain": [
              "0"
            ]
          },
          "metadata": {},
          "execution_count": 47
        }
      ]
    },
    {
      "cell_type": "markdown",
      "source": [
        "# Nova seção"
      ],
      "metadata": {
        "id": "ReR6E5F--eK8"
      }
    },
    {
      "cell_type": "markdown",
      "source": [
        "Exercícios"
      ],
      "metadata": {
        "id": "U1Pj_eIJD6Bv"
      }
    },
    {
      "cell_type": "code",
      "source": [
        "nome = \"Ana\"\n",
        "RA = 248706\n",
        "codigoDaDisciplina = \"AS012TSN1\"\n",
        "ano = 2025\n",
        "\n",
        "print(nome, end = \" - \")\n",
        "print(RA, end = \" - \")\n",
        "print(codigoDaDisciplina, end = \" - \")\n",
        "print(ano)"
      ],
      "metadata": {
        "colab": {
          "base_uri": "https://localhost:8080/"
        },
        "id": "nI-1cI69EHhA",
        "outputId": "76477615-7786-4fd6-9e66-3d5b9c00007a"
      },
      "execution_count": 14,
      "outputs": [
        {
          "output_type": "stream",
          "name": "stdout",
          "text": [
            "Ana - 248706 - AS012TSN1 - 2025\n"
          ]
        }
      ]
    },
    {
      "cell_type": "code",
      "execution_count": null,
      "metadata": {
        "colab": {
          "base_uri": "https://localhost:8080/"
        },
        "id": "_q_fR7XkmR4_",
        "outputId": "24f5c760-a0de-4f95-e7a2-9168e11f139d"
      },
      "outputs": [
        {
          "output_type": "stream",
          "name": "stdout",
          "text": [
            "O menor número é 2\n"
          ]
        }
      ],
      "source": [
        "# Escreva um programa que, dados três números inteiros, imprima o menor deles\n",
        "numero1, numero2, numero3 = 10, 8, 2\n",
        "print(\"O menor número é\", min(numero1, numero2, numero3))"
      ]
    },
    {
      "cell_type": "code",
      "source": [
        "# Escreva um programa que, dados três números inteiros, imprima os números\n",
        "# em ordem crescente\n",
        "numeros = [10, 8, 2]\n",
        "print(sorted(numeros))"
      ],
      "metadata": {
        "colab": {
          "base_uri": "https://localhost:8080/"
        },
        "id": "tx0Z8FJG9837",
        "outputId": "89b373ad-4d41-489b-9d2d-be808d74b5c9"
      },
      "execution_count": 46,
      "outputs": [
        {
          "output_type": "stream",
          "name": "stdout",
          "text": [
            "[2, 8, 10]\n"
          ]
        }
      ]
    },
    {
      "cell_type": "code",
      "source": [
        "#Escrever a seguinte equação, supondo que conhece as variáveis a, b, c"
      ],
      "metadata": {
        "id": "dWj_oQhDE9i4"
      },
      "execution_count": null,
      "outputs": []
    },
    {
      "cell_type": "code",
      "source": [
        "# Escreva um código que calcule a hipotenusa de um triângulo retângulo, cujos\n",
        "# catetos são 𝑎 = 6 e 𝑏 = 6.\n",
        "a = 6\n",
        "b = 6\n",
        "\n",
        "c = ((a ** 2) + (b ** 2)) ** 0.5\n",
        "print(c)"
      ],
      "metadata": {
        "colab": {
          "base_uri": "https://localhost:8080/"
        },
        "id": "eoL8j5oZFL4p",
        "outputId": "febaf081-0e1e-4b34-daf6-fe7c14c03cfd"
      },
      "execution_count": null,
      "outputs": [
        {
          "output_type": "stream",
          "name": "stdout",
          "text": [
            "8.48528137423857\n"
          ]
        }
      ]
    },
    {
      "cell_type": "code",
      "source": [
        "# O programa compara dois números, imprima \"Os dois são iguais\",\n",
        "# \"O maior número é o primeiro\" ou \"O maior número é o segundo\"\n",
        "numero1, numero2 = 11, 11\n",
        "\n",
        "if numero1 == numero2:\n",
        "  print(\"Os dois são iguais\")\n",
        "else:\n",
        "  if numero1 > numero2:\n",
        "     print(\"O maior número é o primeiro\")\n",
        "  else:\n",
        "     print(\"O maior número é o segundo\")"
      ],
      "metadata": {
        "colab": {
          "base_uri": "https://localhost:8080/"
        },
        "id": "0-yQCodEFOSD",
        "outputId": "877af9a1-7658-4d94-d1f8-357944b2e535"
      },
      "execution_count": null,
      "outputs": [
        {
          "output_type": "stream",
          "name": "stdout",
          "text": [
            "Os dois são iguais\n"
          ]
        }
      ]
    }
  ]
}